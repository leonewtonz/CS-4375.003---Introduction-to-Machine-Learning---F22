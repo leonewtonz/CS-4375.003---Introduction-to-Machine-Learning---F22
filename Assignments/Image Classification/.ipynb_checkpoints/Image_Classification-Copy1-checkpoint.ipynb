{
 "cells": [
  {
   "cell_type": "markdown",
   "id": "133355dc",
   "metadata": {},
   "source": [
    "# Image Classicaition"
   ]
  },
  {
   "cell_type": "markdown",
   "id": "30434104",
   "metadata": {},
   "source": [
    "**CS 4375 Intro to ML**\n",
    "\n",
    "**Dr. Karen Mazidi**\n",
    "\n",
    "**Prepare by Leo Nguyen - ldn190002**"
   ]
  },
  {
   "cell_type": "markdown",
   "id": "f6598cc7",
   "metadata": {},
   "source": [
    "### Instruction 1\n",
    "\n",
    "    - Find a image classification data set that interests you. \n",
    "    - Divide into train/test\n",
    "    - Create a graph showing the distribution of the target classes.\n",
    "    - Describe the data set and what the model should be able to predict."
   ]
  },
  {
   "cell_type": "markdown",
   "id": "66f3e115",
   "metadata": {},
   "source": [
    "**Import all require modules an packages**"
   ]
  },
  {
   "cell_type": "code",
   "execution_count": null,
   "id": "520da237",
   "metadata": {},
   "outputs": [],
   "source": [
    "import pandas as pd\n",
    "import numpy as np\n",
    "import matplotlib.pyplot as plt\n",
    "%matplotlib inline\n",
    "import seaborn as sns\n",
    "sns.set(style=\"whitegrid\")\n",
    "import os\n",
    "import glob as gb\n",
    "import cv2\n",
    "import tensorflow as tf\n",
    "import keras\n",
    "from tensorflow.keras.preprocessing.text import Tokenizer\n",
    "from tensorflow.keras import datasets, layers, models, preprocessing"
   ]
  },
  {
   "cell_type": "markdown",
   "id": "830fca97",
   "metadata": {},
   "source": [
    "**Creating pandas datasets from seg_train, seg_test, seg_pred folders**\n",
    "\n",
    "    - Train dataset :        using image from seg_train folder\n",
    "    - Validation dataset :   using image from seg_test folder\n",
    "    - Test dataset :         using image from seg_pred folder"
   ]
  },
  {
   "cell_type": "markdown",
   "id": "0175fb20",
   "metadata": {},
   "source": [
    "Data paths and image specifications"
   ]
  },
  {
   "cell_type": "code",
   "execution_count": null,
   "id": "915b1254",
   "metadata": {},
   "outputs": [],
   "source": [
    "cwd = os.getcwd()\n",
    "\n",
    "#data path\n",
    "trainpath = cwd + '/seg_train/'   \n",
    "valpath = cwd + '/seg_test/'\n",
    "testpath = cwd + '/seg_pred/'"
   ]
  },
  {
   "cell_type": "markdown",
   "id": "2968080a",
   "metadata": {},
   "source": [
    "Checking information on training dataset"
   ]
  },
  {
   "cell_type": "code",
   "execution_count": null,
   "id": "e4e8abf2",
   "metadata": {},
   "outputs": [],
   "source": [
    "Folder_name=[]\n",
    "folder_item_numbers = []\n",
    "for folder in  os.listdir(trainpath + 'seg_train') : \n",
    "    files = gb.glob(pathname= str( trainpath +'seg_train//' + folder + '/*.jpg'))\n",
    "    Folder_name.append(folder)\n",
    "    folder_item_numbers.append(len(files))\n",
    "foldernames=pd.DataFrame({'Folder_name':Folder_name})\n",
    "itemnumbers=pd.DataFrame({'Traning Image Numbers':folder_item_numbers})\n",
    "informations=pd.concat([foldernames,itemnumbers],axis=1)\n",
    "print(informations)"
   ]
  },
  {
   "cell_type": "markdown",
   "id": "706909c4",
   "metadata": {},
   "source": [
    "Checking information on validation dataset"
   ]
  },
  {
   "cell_type": "code",
   "execution_count": null,
   "id": "39ed7f16",
   "metadata": {},
   "outputs": [],
   "source": [
    "Folder_name=[]\n",
    "folder_item_numbers = []\n",
    "for folder in  os.listdir(valpath + 'seg_test') : \n",
    "    files = gb.glob(pathname= str( valpath +'seg_test//' + folder + '/*.jpg'))\n",
    "    Folder_name.append(folder)\n",
    "    folder_item_numbers.append(len(files))\n",
    "foldernames=pd.DataFrame({'Folder_name':Folder_name})\n",
    "itemnumbers=pd.DataFrame({' Validation Image Numbers':folder_item_numbers})\n",
    "informations=pd.concat([foldernames,itemnumbers],axis=1)\n",
    "print(informations)"
   ]
  },
  {
   "cell_type": "markdown",
   "id": "817886ff",
   "metadata": {},
   "source": [
    "Checking information on test dataset"
   ]
  },
  {
   "cell_type": "code",
   "execution_count": null,
   "id": "279a3b60",
   "metadata": {},
   "outputs": [],
   "source": [
    "Folder_name=[]\n",
    "folder_item_numbers = []\n",
    "for folder in  os.listdir(testpath) : \n",
    "    files = gb.glob(pathname= str( testpath + folder + '/*.jpg'))\n",
    "    Folder_name.append(folder)\n",
    "    folder_item_numbers.append(len(files))\n",
    "foldernames=pd.DataFrame({'Folder_name':Folder_name})\n",
    "itemnumbers=pd.DataFrame({' Test Image Numbers':folder_item_numbers})\n",
    "informations=pd.concat([foldernames,itemnumbers],axis=1)\n",
    "print(informations)"
   ]
  },
  {
   "cell_type": "markdown",
   "id": "2adf9e9a",
   "metadata": {},
   "source": [
    "**Data prepocessing**\n",
    "\n",
    "    - Resize all images to new size = 100\n",
    "    - Converting images to an array as X for predictor and and making a labeling array for it as y for target classes"
   ]
  },
  {
   "cell_type": "code",
   "execution_count": null,
   "id": "adf81871",
   "metadata": {},
   "outputs": [],
   "source": [
    "new_size = 100"
   ]
  },
  {
   "cell_type": "markdown",
   "id": "2badff06",
   "metadata": {},
   "source": [
    "Creating train dataset"
   ]
  },
  {
   "cell_type": "code",
   "execution_count": null,
   "id": "b84e3af6",
   "metadata": {},
   "outputs": [],
   "source": [
    "X_train = []\n",
    "y_train = []\n",
    "for folder in  os.listdir(trainpath +'seg_train') : \n",
    "    files = gb.glob(pathname= str( trainpath +'seg_train//' + folder + '/*.jpg'))\n",
    "    for file in files: \n",
    "        image_class = {'buildings':0 ,'forest':1,'glacier':2,'mountain':3,'sea':4,'street':5}\n",
    "        orignal_image = cv2.imread(file)\n",
    "        resized_image = cv2.resize(orignal_image , (new_size,new_size))\n",
    "        X_train.append(list(resized_image))\n",
    "        y_train.append(image_class[folder])"
   ]
  },
  {
   "cell_type": "code",
   "execution_count": null,
   "id": "050b74a0",
   "metadata": {},
   "outputs": [],
   "source": [
    "#showing training images with labels\n",
    "plt.figure(figsize=(20,20))\n",
    "for n , i in enumerate(list(np.random.randint(0,len(X_train),4))) : \n",
    "    plt.subplot(6,6,n+1)\n",
    "    plt.imshow(X_train[i])   \n",
    "    plt.axis('off')\n",
    "    classes = {'buildings':0 ,'forest':1,'glacier':2,'mountain':3,'sea':4,'street':5}\n",
    "    def get_img_class(n):\n",
    "        for x , y in classes.items():\n",
    "            if n == y :\n",
    "                return x\n",
    "    plt.title(get_img_class(y_train[i]))"
   ]
  },
  {
   "cell_type": "raw",
   "id": "ddcda140",
   "metadata": {},
   "source": [
    "Creating validation dataset"
   ]
  },
  {
   "cell_type": "code",
   "execution_count": null,
   "id": "47c60bbb",
   "metadata": {},
   "outputs": [],
   "source": [
    "X_val = []\n",
    "y_val = []\n",
    "for folder in  os.listdir(valpath +'seg_test') : \n",
    "    files = gb.glob(pathname= str( valpath +'seg_test//' + folder + '/*.jpg'))\n",
    "    for file in files: \n",
    "        image_class = {'buildings':0 ,'forest':1,'glacier':2,'mountain':3,'sea':4,'street':5}\n",
    "        orignal_image = cv2.imread(file)\n",
    "        resized_image = cv2.resize(orignal_image , (new_size,new_size))\n",
    "        X_val.append(list(resized_image))\n",
    "        y_val.append(image_class[folder])"
   ]
  },
  {
   "cell_type": "code",
   "execution_count": null,
   "id": "6d7d2430",
   "metadata": {
    "scrolled": true
   },
   "outputs": [],
   "source": [
    "#showing validation images with labels\n",
    "plt.figure(figsize=(20,20))\n",
    "for n , i in enumerate(list(np.random.randint(0,len(X_val),4))) : \n",
    "    plt.subplot(6,6,n+1)\n",
    "    plt.imshow(X_val[i])   \n",
    "    plt.axis('off')\n",
    "    classes = {'buildings':0 ,'forest':1,'glacier':2,'mountain':3,'sea':4,'street':5}\n",
    "    def get_img_class(n):\n",
    "        for x , y in classes.items():\n",
    "            if n == y :\n",
    "                return x\n",
    "    plt.title(get_img_class(y_val[i]))"
   ]
  },
  {
   "cell_type": "markdown",
   "id": "794bf823",
   "metadata": {},
   "source": [
    "Creating test dataset"
   ]
  },
  {
   "cell_type": "code",
   "execution_count": null,
   "id": "34bc8f38",
   "metadata": {},
   "outputs": [],
   "source": [
    "X_test = []\n",
    "for folder in  os.listdir(testpath) : \n",
    "    files = gb.glob(pathname= str( testpath + folder + '/*.jpg'))\n",
    "    for file in files: \n",
    "        image_class = {'buildings':0 ,'forest':1,'glacier':2,'mountain':3,'sea':4,'street':5}\n",
    "        orignal_image = cv2.imread(file)\n",
    "        resized_image = cv2.resize(orignal_image , (new_size,new_size))\n",
    "        X_test.append(list(resized_image))"
   ]
  },
  {
   "cell_type": "code",
   "execution_count": null,
   "id": "db1883e5",
   "metadata": {
    "scrolled": true
   },
   "outputs": [],
   "source": [
    "#showing some test images\n",
    "plt.figure(figsize=(20,20))\n",
    "for n , i in enumerate(list(np.random.randint(0,len(X_test),4))) : \n",
    "    plt.subplot(6,6,n+1)\n",
    "    plt.imshow(X_test[i])   \n",
    "    plt.axis('off')"
   ]
  },
  {
   "cell_type": "markdown",
   "id": "a240d9a3",
   "metadata": {},
   "source": [
    "Converting all dataset into numpy array"
   ]
  },
  {
   "cell_type": "code",
   "execution_count": null,
   "id": "52621dcc",
   "metadata": {},
   "outputs": [],
   "source": [
    "#converting all data to array\n",
    "X_train = np.array(X_train)\n",
    "X_val = np.array(X_val)\n",
    "X_test = np.array(X_test)\n",
    "y_train = np.array(y_train)\n",
    "y_val = np.array(y_val)\n",
    "print(\"X_train shape  : \",X_train.shape)\n",
    "print(\"X_val shape  :\" ,X_val.shape)\n",
    "print(\"X_test shape :\" , X_test.shape)\n",
    "print(\"y_train shape :\" ,y_train.shape)\n",
    "print(\"y_val shape :\", y_val.shape)"
   ]
  },
  {
   "cell_type": "markdown",
   "id": "28edcf2f",
   "metadata": {},
   "source": [
    "**Graph to show the distribution of target classes**\n"
   ]
  },
  {
   "cell_type": "markdown",
   "id": "9a83afe3",
   "metadata": {},
   "source": [
    "Need to so something"
   ]
  },
  {
   "cell_type": "markdown",
   "id": "15888f0f",
   "metadata": {},
   "source": [
    "**Describe the data set and what the model should be able to predict.**"
   ]
  },
  {
   "cell_type": "markdown",
   "id": "dd314716",
   "metadata": {},
   "source": []
  },
  {
   "cell_type": "markdown",
   "id": "bdc324f7",
   "metadata": {},
   "source": [
    "### Intruction 2 - Sequential Model\n",
    "\n",
    "    - Create a sequential model\n",
    "    - Evaluate on the test data"
   ]
  },
  {
   "cell_type": "markdown",
   "id": "3e3986b3",
   "metadata": {},
   "source": [
    "**Build a sequential model**"
   ]
  },
  {
   "cell_type": "code",
   "execution_count": null,
   "id": "505ed39a",
   "metadata": {
    "scrolled": false
   },
   "outputs": [],
   "source": [
    "# fit model\n",
    "model1 = models.Sequential()\n",
    "model1.add(layers.Dense(32, kernel_initializer='normal', activation='relu'))\n",
    "model1.add(layers.Dense(1, kernel_initializer='normal', activation='sigmoid'))\n",
    " \n",
    "# compile\n",
    "model1.compile(loss='sparse_categorical_crossentropy',\n",
    "              optimizer='adam',\n",
    "              metrics=['accuracy'])\n",
    "\n",
    "# train\n",
    "model1.fit(X_train, y_train,\n",
    "          batch_size=128,\n",
    "          epochs=20,\n",
    "          validation_data=(X_val, y_val))"
   ]
  },
  {
   "cell_type": "code",
   "execution_count": null,
   "id": "7f55d09e",
   "metadata": {},
   "outputs": [],
   "source": [
    "# Show model summary\n",
    "model.summary()"
   ]
  },
  {
   "cell_type": "markdown",
   "id": "07fb6d68",
   "metadata": {},
   "source": [
    "**Evaluation**"
   ]
  },
  {
   "cell_type": "code",
   "execution_count": null,
   "id": "87993962",
   "metadata": {},
   "outputs": [],
   "source": [
    "if INCLUDE_TEST:\n",
    "    model.evaluate(test_ds)"
   ]
  },
  {
   "cell_type": "markdown",
   "id": "d111cc64",
   "metadata": {},
   "source": [
    "### Instruction 3 - Sequential Model with RNN, CNN Architecture\n",
    "\n",
    "Try different architecture like RNN, CNN, etc and evaluate on the test data"
   ]
  },
  {
   "cell_type": "markdown",
   "id": "79e8ef46",
   "metadata": {},
   "source": [
    "### RNN Architecture"
   ]
  },
  {
   "cell_type": "markdown",
   "id": "657dcb2e",
   "metadata": {},
   "source": [
    "**Build RNN Model**"
   ]
  },
  {
   "cell_type": "code",
   "execution_count": null,
   "id": "48424c5b",
   "metadata": {},
   "outputs": [],
   "source": [
    "# fit\n",
    "model = keras.Sequential()\n",
    "\n",
    "\n",
    "model.add(layers.RNN(32, input_shape=input_shape))\n",
    "  \n",
    "model.add(Flatten())\n",
    "model.add(Dense(64))\n",
    "model.add(Activation('relu'))\n",
    "model.add(Dropout(0.5))\n",
    "model.add(Dense(1))\n",
    "model.add(Activation('sigmoid'))\n",
    "\n",
    "# compile\n",
    "model.compile(loss='binary_crossentropy',\n",
    "              optimizer='rmsprop',\n",
    "              metrics=['accuracy'])\n",
    "\n",
    "# train \n",
    "model.fit(\n",
    "    train_ds,\n",
    "    epochs=10,\n",
    "   dd)\n",
    "\n"
   ]
  },
  {
   "cell_type": "code",
   "execution_count": null,
   "id": "8614fcf1",
   "metadata": {
    "scrolled": true
   },
   "outputs": [],
   "source": [
    "# Show model summary\n",
    "model2.summary()"
   ]
  },
  {
   "cell_type": "markdown",
   "id": "4ddf97fa",
   "metadata": {},
   "source": [
    "**Evaluation of RNN**"
   ]
  },
  {
   "cell_type": "markdown",
   "id": "891b964d",
   "metadata": {},
   "source": [
    "Evaluate and calculate the metrics"
   ]
  },
  {
   "cell_type": "markdown",
   "id": "71a4d6ad",
   "metadata": {},
   "source": [
    "### CNN Architecture"
   ]
  },
  {
   "cell_type": "markdown",
   "id": "ffc985df",
   "metadata": {},
   "source": [
    "**Build a CNN model**"
   ]
  },
  {
   "cell_type": "code",
   "execution_count": null,
   "id": "87a1af45",
   "metadata": {},
   "outputs": [],
   "source": [
    "# Show model summary\n",
    "model3.summary()"
   ]
  },
  {
   "cell_type": "markdown",
   "id": "3dbbdf38",
   "metadata": {},
   "source": [
    "**Evaluation of CNN**"
   ]
  }
 ],
 "metadata": {
  "kernelspec": {
   "display_name": "Python 3 (ipykernel)",
   "language": "python",
   "name": "python3"
  },
  "language_info": {
   "codemirror_mode": {
    "name": "ipython",
    "version": 3
   },
   "file_extension": ".py",
   "mimetype": "text/x-python",
   "name": "python",
   "nbconvert_exporter": "python",
   "pygments_lexer": "ipython3",
   "version": "3.10.4"
  }
 },
 "nbformat": 4,
 "nbformat_minor": 5
}
