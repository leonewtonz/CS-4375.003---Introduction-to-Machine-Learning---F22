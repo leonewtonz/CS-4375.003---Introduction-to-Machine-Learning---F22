{
 "cells": [
  {
   "cell_type": "markdown",
   "id": "4e27d2e9",
   "metadata": {},
   "source": [
    "# ML with sklearn"
   ]
  },
  {
   "cell_type": "markdown",
   "id": "ee34702c",
   "metadata": {},
   "source": [
    "**CS 4375 - Intro to Machine Learning**\n",
    "\n",
    "**Dr. Karen Mazidi**\n",
    "\n",
    "**Prepare by Leo Nguyen - ldn190002**"
   ]
  },
  {
   "cell_type": "markdown",
   "id": "528cba6a",
   "metadata": {},
   "source": [
    "### Instruction 1 - Read the Auto data"
   ]
  },
  {
   "cell_type": "markdown",
   "id": "a6797fd2",
   "metadata": {},
   "source": [
    "Read in cvs file using panda."
   ]
  },
  {
   "cell_type": "code",
   "execution_count": 1,
   "id": "360263b1",
   "metadata": {
    "scrolled": true
   },
   "outputs": [],
   "source": [
    "import pandas as pd\n",
    "df = pd.read_csv('Auto.csv')"
   ]
  },
  {
   "cell_type": "markdown",
   "id": "a0584e58",
   "metadata": {},
   "source": [
    "Display first few fows and the dimension"
   ]
  },
  {
   "cell_type": "code",
   "execution_count": 2,
   "id": "6242f5d1",
   "metadata": {
    "scrolled": true
   },
   "outputs": [
    {
     "name": "stdout",
     "output_type": "stream",
     "text": [
      "    mpg  cylinders  displacement  horsepower  weight  acceleration  year  \\\n",
      "0  18.0          8         307.0         130    3504          12.0  70.0   \n",
      "1  15.0          8         350.0         165    3693          11.5  70.0   \n",
      "2  18.0          8         318.0         150    3436          11.0  70.0   \n",
      "3  16.0          8         304.0         150    3433          12.0  70.0   \n",
      "4  17.0          8         302.0         140    3449           NaN  70.0   \n",
      "\n",
      "   origin                       name  \n",
      "0       1  chevrolet chevelle malibu  \n",
      "1       1          buick skylark 320  \n",
      "2       1         plymouth satellite  \n",
      "3       1              amc rebel sst  \n",
      "4       1                ford torino  \n",
      "\n",
      "Dimensions of data frame: (392, 9)\n"
     ]
    }
   ],
   "source": [
    "print(df.head())\n",
    "print('\\nDimensions of data frame:', df.shape)"
   ]
  },
  {
   "cell_type": "markdown",
   "id": "99ea2841",
   "metadata": {},
   "source": [
    "### Instruction 2 - Data exploration with code"
   ]
  },
  {
   "cell_type": "markdown",
   "id": "7f45b6ac",
   "metadata": {},
   "source": [
    "Use describe() on mpg, weight, and year\n",
    "\n",
    "    - mpg have range from 9 to 46.6 and average 23.445918\n",
    "    - weight have range from 1613 to 5140 and average 2977.584184\n",
    "    - year have range from 70 to 82 and average 76.010256\n",
    "    "
   ]
  },
  {
   "cell_type": "code",
   "execution_count": 3,
   "id": "95f7c9a5",
   "metadata": {
    "scrolled": true
   },
   "outputs": [
    {
     "data": {
      "text/plain": [
       "count    392.000000\n",
       "mean      23.445918\n",
       "std        7.805007\n",
       "min        9.000000\n",
       "25%       17.000000\n",
       "50%       22.750000\n",
       "75%       29.000000\n",
       "max       46.600000\n",
       "Name: mpg, dtype: float64"
      ]
     },
     "execution_count": 3,
     "metadata": {},
     "output_type": "execute_result"
    }
   ],
   "source": [
    "df.mpg.describe()"
   ]
  },
  {
   "cell_type": "code",
   "execution_count": 4,
   "id": "515a25f1",
   "metadata": {
    "scrolled": true
   },
   "outputs": [
    {
     "data": {
      "text/plain": [
       "count     392.000000\n",
       "mean     2977.584184\n",
       "std       849.402560\n",
       "min      1613.000000\n",
       "25%      2225.250000\n",
       "50%      2803.500000\n",
       "75%      3614.750000\n",
       "max      5140.000000\n",
       "Name: weight, dtype: float64"
      ]
     },
     "execution_count": 4,
     "metadata": {},
     "output_type": "execute_result"
    }
   ],
   "source": [
    "df.weight.describe()"
   ]
  },
  {
   "cell_type": "code",
   "execution_count": 5,
   "id": "25e43574",
   "metadata": {
    "scrolled": true
   },
   "outputs": [
    {
     "data": {
      "text/plain": [
       "count    390.000000\n",
       "mean      76.010256\n",
       "std        3.668093\n",
       "min       70.000000\n",
       "25%       73.000000\n",
       "50%       76.000000\n",
       "75%       79.000000\n",
       "max       82.000000\n",
       "Name: year, dtype: float64"
      ]
     },
     "execution_count": 5,
     "metadata": {},
     "output_type": "execute_result"
    }
   ],
   "source": [
    "df.year.describe()"
   ]
  },
  {
   "cell_type": "markdown",
   "id": "6fa69777",
   "metadata": {},
   "source": [
    "### Instruction 3 - Explore data types"
   ]
  },
  {
   "cell_type": "markdown",
   "id": "a5e3810f",
   "metadata": {},
   "source": [
    "Check data types of all columns"
   ]
  },
  {
   "cell_type": "code",
   "execution_count": 6,
   "id": "d13c24f6",
   "metadata": {},
   "outputs": [
    {
     "data": {
      "text/plain": [
       "mpg             float64\n",
       "cylinders         int64\n",
       "displacement    float64\n",
       "horsepower        int64\n",
       "weight            int64\n",
       "acceleration    float64\n",
       "year            float64\n",
       "origin            int64\n",
       "name             object\n",
       "dtype: object"
      ]
     },
     "execution_count": 6,
     "metadata": {},
     "output_type": "execute_result"
    }
   ],
   "source": [
    "df.dtypes"
   ]
  },
  {
   "cell_type": "markdown",
   "id": "07d17d35",
   "metadata": {},
   "source": [
    "Change the cylinders column to categorical (use cat.codes)\n",
    "\n",
    "The cat.codes will convert cylinders to categorical data type with numeric factor codes."
   ]
  },
  {
   "cell_type": "code",
   "execution_count": 7,
   "id": "0469bd30",
   "metadata": {
    "scrolled": true
   },
   "outputs": [
    {
     "name": "stdout",
     "output_type": "stream",
     "text": [
      "\n",
      "New data type of cylinder: int8\n"
     ]
    }
   ],
   "source": [
    "df.cylinders = df.cylinders.astype('category').cat.codes\n",
    "print('\\nNew data type of cylinder:', df.cylinders.dtypes)"
   ]
  },
  {
   "cell_type": "markdown",
   "id": "32cdf0fa",
   "metadata": {},
   "source": [
    "Change the origin column to categorical (don't use cat.codes)"
   ]
  },
  {
   "cell_type": "code",
   "execution_count": 8,
   "id": "afa17d3b",
   "metadata": {
    "scrolled": true
   },
   "outputs": [
    {
     "name": "stdout",
     "output_type": "stream",
     "text": [
      "\n",
      "New data type of origin: category\n"
     ]
    }
   ],
   "source": [
    "df.origin = df.origin.astype('category')\n",
    "print('\\nNew data type of origin:', df.origin.dtypes)"
   ]
  },
  {
   "cell_type": "markdown",
   "id": "565f165b",
   "metadata": {},
   "source": [
    "### Instruction 4 - Deal with NAs"
   ]
  },
  {
   "cell_type": "markdown",
   "id": "9fd704e9",
   "metadata": {},
   "source": [
    "Check for NAs in each column"
   ]
  },
  {
   "cell_type": "code",
   "execution_count": 9,
   "id": "84562665",
   "metadata": {
    "scrolled": true
   },
   "outputs": [
    {
     "data": {
      "text/plain": [
       "mpg             0\n",
       "cylinders       0\n",
       "displacement    0\n",
       "horsepower      0\n",
       "weight          0\n",
       "acceleration    1\n",
       "year            2\n",
       "origin          0\n",
       "name            0\n",
       "dtype: int64"
      ]
     },
     "execution_count": 9,
     "metadata": {},
     "output_type": "execute_result"
    }
   ],
   "source": [
    "df.isnull().sum()"
   ]
  },
  {
   "cell_type": "markdown",
   "id": "77324e5f",
   "metadata": {},
   "source": [
    "Delete rows with NAs. And output the new dimension"
   ]
  },
  {
   "cell_type": "code",
   "execution_count": 10,
   "id": "07d7bd71",
   "metadata": {
    "scrolled": true
   },
   "outputs": [
    {
     "name": "stdout",
     "output_type": "stream",
     "text": [
      "\n",
      "Dimensions of data frame: (389, 9)\n"
     ]
    }
   ],
   "source": [
    "df = df.dropna()\n",
    "print('\\nDimensions of data frame:', df.shape)"
   ]
  },
  {
   "cell_type": "markdown",
   "id": "78145d8f",
   "metadata": {},
   "source": [
    "### Instrution 5 - Modify columns"
   ]
  },
  {
   "cell_type": "markdown",
   "id": "776757ae",
   "metadata": {},
   "source": [
    "Make a new column, mpg_high, and make it categorical. The column == 1 if mpg > average mpg, else == 0"
   ]
  },
  {
   "cell_type": "code",
   "execution_count": 11,
   "id": "274fd76c",
   "metadata": {
    "scrolled": true
   },
   "outputs": [],
   "source": [
    "import numpy as np\n",
    "\n",
    "df['mpg_high'] = np.where(df.mpg > np.mean(df.mpg), 1, 0)\n",
    "df.mpg_high = df.mpg_high.astype('category')"
   ]
  },
  {
   "cell_type": "markdown",
   "id": "c3ca254f",
   "metadata": {},
   "source": [
    "Delete the mpg and name columns (Delete mpg so the algorithm doesn’t just learn to predict mpg_high from mpg)"
   ]
  },
  {
   "cell_type": "code",
   "execution_count": 12,
   "id": "08389b67",
   "metadata": {},
   "outputs": [],
   "source": [
    "df = df.drop(columns=['mpg', 'name'])"
   ]
  },
  {
   "cell_type": "markdown",
   "id": "41307ab1",
   "metadata": {},
   "source": [
    "Output the first few rows of the modified data frame"
   ]
  },
  {
   "cell_type": "code",
   "execution_count": 13,
   "id": "0fd1b43d",
   "metadata": {
    "scrolled": true
   },
   "outputs": [
    {
     "data": {
      "text/html": [
       "<div>\n",
       "<style scoped>\n",
       "    .dataframe tbody tr th:only-of-type {\n",
       "        vertical-align: middle;\n",
       "    }\n",
       "\n",
       "    .dataframe tbody tr th {\n",
       "        vertical-align: top;\n",
       "    }\n",
       "\n",
       "    .dataframe thead th {\n",
       "        text-align: right;\n",
       "    }\n",
       "</style>\n",
       "<table border=\"1\" class=\"dataframe\">\n",
       "  <thead>\n",
       "    <tr style=\"text-align: right;\">\n",
       "      <th></th>\n",
       "      <th>cylinders</th>\n",
       "      <th>displacement</th>\n",
       "      <th>horsepower</th>\n",
       "      <th>weight</th>\n",
       "      <th>acceleration</th>\n",
       "      <th>year</th>\n",
       "      <th>origin</th>\n",
       "      <th>mpg_high</th>\n",
       "    </tr>\n",
       "  </thead>\n",
       "  <tbody>\n",
       "    <tr>\n",
       "      <th>0</th>\n",
       "      <td>4</td>\n",
       "      <td>307.0</td>\n",
       "      <td>130</td>\n",
       "      <td>3504</td>\n",
       "      <td>12.0</td>\n",
       "      <td>70.0</td>\n",
       "      <td>1</td>\n",
       "      <td>0</td>\n",
       "    </tr>\n",
       "    <tr>\n",
       "      <th>1</th>\n",
       "      <td>4</td>\n",
       "      <td>350.0</td>\n",
       "      <td>165</td>\n",
       "      <td>3693</td>\n",
       "      <td>11.5</td>\n",
       "      <td>70.0</td>\n",
       "      <td>1</td>\n",
       "      <td>0</td>\n",
       "    </tr>\n",
       "    <tr>\n",
       "      <th>2</th>\n",
       "      <td>4</td>\n",
       "      <td>318.0</td>\n",
       "      <td>150</td>\n",
       "      <td>3436</td>\n",
       "      <td>11.0</td>\n",
       "      <td>70.0</td>\n",
       "      <td>1</td>\n",
       "      <td>0</td>\n",
       "    </tr>\n",
       "    <tr>\n",
       "      <th>3</th>\n",
       "      <td>4</td>\n",
       "      <td>304.0</td>\n",
       "      <td>150</td>\n",
       "      <td>3433</td>\n",
       "      <td>12.0</td>\n",
       "      <td>70.0</td>\n",
       "      <td>1</td>\n",
       "      <td>0</td>\n",
       "    </tr>\n",
       "    <tr>\n",
       "      <th>6</th>\n",
       "      <td>4</td>\n",
       "      <td>454.0</td>\n",
       "      <td>220</td>\n",
       "      <td>4354</td>\n",
       "      <td>9.0</td>\n",
       "      <td>70.0</td>\n",
       "      <td>1</td>\n",
       "      <td>0</td>\n",
       "    </tr>\n",
       "  </tbody>\n",
       "</table>\n",
       "</div>"
      ],
      "text/plain": [
       "   cylinders  displacement  horsepower  weight  acceleration  year origin  \\\n",
       "0          4         307.0         130    3504          12.0  70.0      1   \n",
       "1          4         350.0         165    3693          11.5  70.0      1   \n",
       "2          4         318.0         150    3436          11.0  70.0      1   \n",
       "3          4         304.0         150    3433          12.0  70.0      1   \n",
       "6          4         454.0         220    4354           9.0  70.0      1   \n",
       "\n",
       "  mpg_high  \n",
       "0        0  \n",
       "1        0  \n",
       "2        0  \n",
       "3        0  \n",
       "6        0  "
      ]
     },
     "execution_count": 13,
     "metadata": {},
     "output_type": "execute_result"
    }
   ],
   "source": [
    "df.head()"
   ]
  },
  {
   "cell_type": "markdown",
   "id": "7242386f",
   "metadata": {},
   "source": [
    "### Instrution 6 - Data exploration with graphs"
   ]
  },
  {
   "cell_type": "markdown",
   "id": "e98550f6",
   "metadata": {},
   "source": [
    "Seaborn catplot on the mpg_high column\n",
    "\n",
    "    - Based on the graph, we can see that, we have less cars with high mpg (mpg_high = 1) than the cars with low mpg (mpg_high = 0)"
   ]
  },
  {
   "cell_type": "code",
   "execution_count": 14,
   "id": "a044fc51",
   "metadata": {},
   "outputs": [
    {
     "data": {
      "text/plain": [
       "<seaborn.axisgrid.FacetGrid at 0x1c758520ca0>"
      ]
     },
     "execution_count": 14,
     "metadata": {},
     "output_type": "execute_result"
    },
    {
     "data": {
      "image/png": "[encoded data removed]",
      "text/plain": [
       "<Figure size 500x500 with 1 Axes>"
      ]
     },
     "metadata": {},
     "output_type": "display_data"
    }
   ],
   "source": [
    "import seaborn as sb\n",
    "\n",
    "sb.catplot(data=df, x=\"mpg_high\", kind='count')"
   ]
  },
  {
   "cell_type": "markdown",
   "id": "f87483e5",
   "metadata": {},
   "source": [
    "Seaborn relplot with horsepower on the x axis, weight on the y axis, setting hue or style to mpg_high\n",
    "\n",
    "    - Based on the graph, we can see that most of the cars with high mpg ((mpg_high = 1) will have less weight and less horsepower than the cars with low mpg (mpg_high = 0)"
   ]
  },
  {
   "cell_type": "code",
   "execution_count": 15,
   "id": "15e8bf52",
   "metadata": {
    "scrolled": false
   },
   "outputs": [
    {
     "data": {
      "text/plain": [
       "<seaborn.axisgrid.FacetGrid at 0x1c758521600>"
      ]
     },
     "execution_count": 15,
     "metadata": {},
     "output_type": "execute_result"
    },
    {
     "data": {
      "image/png": "[encoded data removed]",
      "text/plain": [
       "<Figure size 579.611x500 with 1 Axes>"
      ]
     },
     "metadata": {},
     "output_type": "display_data"
    }
   ],
   "source": [
    "sb.relplot(data=df, x=\"horsepower\", y=\"weight\", hue=\"mpg_high\")"
   ]
  },
  {
   "cell_type": "markdown",
   "id": "a6628ded",
   "metadata": {},
   "source": [
    "Seaborn boxplot with mpg_high on the x axis and weight on the y axis\n",
    "\n",
    "    - Based the graph, we can see that the group of cars with high mpg (mpg_high = 1) has smaller weight range compare to group of cars with low mpg (mpg_high = 0)"
   ]
  },
  {
   "cell_type": "code",
   "execution_count": 16,
   "id": "8ec672e4",
   "metadata": {},
   "outputs": [
    {
     "data": {
      "text/plain": [
       "<AxesSubplot:xlabel='mpg_high', ylabel='weight'>"
      ]
     },
     "execution_count": 16,
     "metadata": {},
     "output_type": "execute_result"
    },
    {
     "data": {
      "image/png": "[encoded data removed]",
      "text/plain": [
       "<Figure size 640x480 with 1 Axes>"
      ]
     },
     "metadata": {},
     "output_type": "display_data"
    }
   ],
   "source": [
    "sb.boxplot(data=df, x=\"mpg_high\", y=\"weight\")"
   ]
  },
  {
   "cell_type": "markdown",
   "id": "3a4092e2",
   "metadata": {},
   "source": [
    "### Instrution 7 - Train/test split"
   ]
  },
  {
   "cell_type": "markdown",
   "id": "043be8b2",
   "metadata": {},
   "source": [
    "Divide data into train/test (80/20) using seed 1234 to get the same result.\n",
    "\n",
    "Train /test X data frames consists of all remaining columns except mpg_high\n",
    "\n",
    "Output the dimensions of train and test\n"
   ]
  },
  {
   "cell_type": "code",
   "execution_count": 17,
   "id": "33b89dfc",
   "metadata": {},
   "outputs": [
    {
     "name": "stdout",
     "output_type": "stream",
     "text": [
      "train size: (311, 7)\n",
      "test size: (78, 7)\n"
     ]
    }
   ],
   "source": [
    "from sklearn.model_selection import train_test_split\n",
    "\n",
    "X = df.loc[:, df.columns != 'mpg_high']  # Predictor: All columns except mpg_high\n",
    "y = df.mpg_high  # Target: mpg_high\n",
    "\n",
    "X_train, X_test, y_train, y_test = train_test_split(X, y, test_size=0.2, random_state=1234)\n",
    "\n",
    "print('train size:', X_train.shape)\n",
    "print('test size:', X_test.shape)"
   ]
  },
  {
   "cell_type": "markdown",
   "id": "7b458326",
   "metadata": {},
   "source": [
    "### Instrution 8 - Logistic Regression"
   ]
  },
  {
   "cell_type": "markdown",
   "id": "0874a4f9",
   "metadata": {},
   "source": [
    "Train a logistic regression model using solver lbfgs\n",
    "\n",
    "    - Set max_iter = 350 to cover the number of rows in train data which have 311 samples"
   ]
  },
  {
   "cell_type": "code",
   "execution_count": 18,
   "id": "b03129ba",
   "metadata": {},
   "outputs": [
    {
     "data": {
      "text/html": [
       "<style>#sk-container-id-1 {color: black;background-color: white;}#sk-container-id-1 pre{padding: 0;}#sk-container-id-1 div.sk-toggleable {background-color: white;}#sk-container-id-1 label.sk-toggleable__label {cursor: pointer;display: block;width: 100%;margin-bottom: 0;padding: 0.3em;box-sizing: border-box;text-align: center;}#sk-container-id-1 label.sk-toggleable__label-arrow:before {content: \"▸\";float: left;margin-right: 0.25em;color: #696969;}#sk-container-id-1 label.sk-toggleable__label-arrow:hover:before {color: black;}#sk-container-id-1 div.sk-estimator:hover label.sk-toggleable__label-arrow:before {color: black;}#sk-container-id-1 div.sk-toggleable__content {max-height: 0;max-width: 0;overflow: hidden;text-align: left;background-color: #f0f8ff;}#sk-container-id-1 div.sk-toggleable__content pre {margin: 0.2em;color: black;border-radius: 0.25em;background-color: #f0f8ff;}#sk-container-id-1 input.sk-toggleable__control:checked~div.sk-toggleable__content {max-height: 200px;max-width: 100%;overflow: auto;}#sk-container-id-1 input.sk-toggleable__control:checked~label.sk-toggleable__label-arrow:before {content: \"▾\";}#sk-container-id-1 div.sk-estimator input.sk-toggleable__control:checked~label.sk-toggleable__label {background-color: #d4ebff;}#sk-container-id-1 div.sk-label input.sk-toggleable__control:checked~label.sk-toggleable__label {background-color: #d4ebff;}#sk-container-id-1 input.sk-hidden--visually {border: 0;clip: rect(1px 1px 1px 1px);clip: rect(1px, 1px, 1px, 1px);height: 1px;margin: -1px;overflow: hidden;padding: 0;position: absolute;width: 1px;}#sk-container-id-1 div.sk-estimator {font-family: monospace;background-color: #f0f8ff;border: 1px dotted black;border-radius: 0.25em;box-sizing: border-box;margin-bottom: 0.5em;}#sk-container-id-1 div.sk-estimator:hover {background-color: #d4ebff;}#sk-container-id-1 div.sk-parallel-item::after {content: \"\";width: 100%;border-bottom: 1px solid gray;flex-grow: 1;}#sk-container-id-1 div.sk-label:hover label.sk-toggleable__label {background-color: #d4ebff;}#sk-container-id-1 div.sk-serial::before {content: \"\";position: absolute;border-left: 1px solid gray;box-sizing: border-box;top: 0;bottom: 0;left: 50%;z-index: 0;}#sk-container-id-1 div.sk-serial {display: flex;flex-direction: column;align-items: center;background-color: white;padding-right: 0.2em;padding-left: 0.2em;position: relative;}#sk-container-id-1 div.sk-item {position: relative;z-index: 1;}#sk-container-id-1 div.sk-parallel {display: flex;align-items: stretch;justify-content: center;background-color: white;position: relative;}#sk-container-id-1 div.sk-item::before, #sk-container-id-1 div.sk-parallel-item::before {content: \"\";position: absolute;border-left: 1px solid gray;box-sizing: border-box;top: 0;bottom: 0;left: 50%;z-index: -1;}#sk-container-id-1 div.sk-parallel-item {display: flex;flex-direction: column;z-index: 1;position: relative;background-color: white;}#sk-container-id-1 div.sk-parallel-item:first-child::after {align-self: flex-end;width: 50%;}#sk-container-id-1 div.sk-parallel-item:last-child::after {align-self: flex-start;width: 50%;}#sk-container-id-1 div.sk-parallel-item:only-child::after {width: 0;}#sk-container-id-1 div.sk-dashed-wrapped {border: 1px dashed gray;margin: 0 0.4em 0.5em 0.4em;box-sizing: border-box;padding-bottom: 0.4em;background-color: white;}#sk-container-id-1 div.sk-label label {font-family: monospace;font-weight: bold;display: inline-block;line-height: 1.2em;}#sk-container-id-1 div.sk-label-container {text-align: center;}#sk-container-id-1 div.sk-container {/* jupyter's `normalize.less` sets `[hidden] { display: none; }` but bootstrap.min.css set `[hidden] { display: none !important; }` so we also need the `!important` here to be able to override the default hidden behavior on the sphinx rendered scikit-learn.org. See: https://github.com/scikit-learn/scikit-learn/issues/21755 */display: inline-block !important;position: relative;}#sk-container-id-1 div.sk-text-repr-fallback {display: none;}</style><div id=\"sk-container-id-1\" class=\"sk-top-container\"><div class=\"sk-text-repr-fallback\"><pre>LogisticRegression(max_iter=350)</pre><b>In a Jupyter environment, please rerun this cell to show the HTML representation or trust the notebook. <br />On GitHub, the HTML representation is unable to render, please try loading this page with nbviewer.org.</b></div><div class=\"sk-container\" hidden><div class=\"sk-item\"><div class=\"sk-estimator sk-toggleable\"><input class=\"sk-toggleable__control sk-hidden--visually\" id=\"sk-estimator-id-1\" type=\"checkbox\" checked><label for=\"sk-estimator-id-1\" class=\"sk-toggleable__label sk-toggleable__label-arrow\">LogisticRegression</label><div class=\"sk-toggleable__content\"><pre>LogisticRegression(max_iter=350)</pre></div></div></div></div></div>"
      ],
      "text/plain": [
       "LogisticRegression(max_iter=350)"
      ]
     },
     "execution_count": 18,
     "metadata": {},
     "output_type": "execute_result"
    }
   ],
   "source": [
    "from sklearn.linear_model import LogisticRegression\n",
    "\n",
    "clf = LogisticRegression(solver='lbfgs', max_iter=350)\n",
    "clf.fit(X_train, y_train)"
   ]
  },
  {
   "cell_type": "markdown",
   "id": "18491fa3",
   "metadata": {},
   "source": [
    "Test and Evaluate"
   ]
  },
  {
   "cell_type": "markdown",
   "id": "1140868f",
   "metadata": {},
   "source": [
    "**Test**"
   ]
  },
  {
   "cell_type": "code",
   "execution_count": 19,
   "id": "bea2015e",
   "metadata": {},
   "outputs": [],
   "source": [
    "# make predictions\n",
    "\n",
    "pred = clf.predict(X_test)"
   ]
  },
  {
   "cell_type": "markdown",
   "id": "c12f3662",
   "metadata": {},
   "source": [
    "**Evaluate**\n",
    "\n",
    "\n",
    "- precision_score:\n",
    "\n",
    "    - The precision is the ratio tp / (tp + fp) where tp is the number of true positives and fp the number of false positives. The precision is intuitively the ability of the classifier not to label as positive a sample that is negative.\n",
    "\n",
    "    - The best value is 1 and the worst value is 0.\n",
    "    \n",
    "    \n",
    "- recall_score: \n",
    "\n",
    "    - The recall is the ratio tp / (tp + fn) where tp is the number of true positives and fn the number of false negatives. The recall is intuitively the ability of the classifier to find all the positive samples.\n",
    "\n",
    "    - The best value is 1 and the worst value is 0.\n",
    "    \n",
    " \n",
    "- f1_score: also known as balanced F-score or F-measure.\n",
    "\n",
    "    - The F1 score can be interpreted as a harmonic mean of the precision and recall, where an F1 score reaches its best value at 1 and worst score at 0. The relative contribution of precision and recall to the F1 score are equal. The formula for the F1 score is:\n",
    "\n",
    "    - F1 = 2 * (precision * recall) / (precision + recall)\n",
    "\n",
    "    - In the multi-class and multi-label case, this is the average of the F1 score of each class with weighting depending on the average parameter.\n",
    " "
   ]
  },
  {
   "cell_type": "code",
   "execution_count": 20,
   "id": "8db0f1fc",
   "metadata": {
    "scrolled": true
   },
   "outputs": [
    {
     "name": "stdout",
     "output_type": "stream",
     "text": [
      "accuracy score:  0.8974358974358975\n",
      "precision score:  0.7777777777777778\n",
      "recall score:  1.0\n",
      "f1 score:  0.8750000000000001\n"
     ]
    }
   ],
   "source": [
    "# evaluate\n",
    "from sklearn.metrics import accuracy_score, precision_score, recall_score, f1_score\n",
    "\n",
    "print('accuracy score: ', accuracy_score(y_test, pred))\n",
    "print('precision score: ', precision_score(y_test, pred))\n",
    "print('recall score: ', recall_score(y_test, pred))\n",
    "print('f1 score: ', f1_score(y_test, pred))"
   ]
  },
  {
   "cell_type": "markdown",
   "id": "996db989",
   "metadata": {},
   "source": [
    "Print metrics using the classification report"
   ]
  },
  {
   "cell_type": "code",
   "execution_count": 21,
   "id": "4df8354e",
   "metadata": {},
   "outputs": [
    {
     "name": "stdout",
     "output_type": "stream",
     "text": [
      "              precision    recall  f1-score   support\n",
      "\n",
      "           0       1.00      0.84      0.91        50\n",
      "           1       0.78      1.00      0.88        28\n",
      "\n",
      "    accuracy                           0.90        78\n",
      "   macro avg       0.89      0.92      0.89        78\n",
      "weighted avg       0.92      0.90      0.90        78\n",
      "\n"
     ]
    }
   ],
   "source": [
    "from sklearn.metrics import classification_report\n",
    "print(classification_report(y_test, pred))"
   ]
  },
  {
   "cell_type": "markdown",
   "id": "93d8df32",
   "metadata": {},
   "source": [
    "### Instrution 9 - Decision Tree"
   ]
  },
  {
   "cell_type": "markdown",
   "id": "d2613927",
   "metadata": {},
   "source": [
    "Train a decision tree"
   ]
  },
  {
   "cell_type": "code",
   "execution_count": 22,
   "id": "a2d74b3e",
   "metadata": {},
   "outputs": [
    {
     "data": {
      "text/html": [
       "<style>#sk-container-id-2 {color: black;background-color: white;}#sk-container-id-2 pre{padding: 0;}#sk-container-id-2 div.sk-toggleable {background-color: white;}#sk-container-id-2 label.sk-toggleable__label {cursor: pointer;display: block;width: 100%;margin-bottom: 0;padding: 0.3em;box-sizing: border-box;text-align: center;}#sk-container-id-2 label.sk-toggleable__label-arrow:before {content: \"▸\";float: left;margin-right: 0.25em;color: #696969;}#sk-container-id-2 label.sk-toggleable__label-arrow:hover:before {color: black;}#sk-container-id-2 div.sk-estimator:hover label.sk-toggleable__label-arrow:before {color: black;}#sk-container-id-2 div.sk-toggleable__content {max-height: 0;max-width: 0;overflow: hidden;text-align: left;background-color: #f0f8ff;}#sk-container-id-2 div.sk-toggleable__content pre {margin: 0.2em;color: black;border-radius: 0.25em;background-color: #f0f8ff;}#sk-container-id-2 input.sk-toggleable__control:checked~div.sk-toggleable__content {max-height: 200px;max-width: 100%;overflow: auto;}#sk-container-id-2 input.sk-toggleable__control:checked~label.sk-toggleable__label-arrow:before {content: \"▾\";}#sk-container-id-2 div.sk-estimator input.sk-toggleable__control:checked~label.sk-toggleable__label {background-color: #d4ebff;}#sk-container-id-2 div.sk-label input.sk-toggleable__control:checked~label.sk-toggleable__label {background-color: #d4ebff;}#sk-container-id-2 input.sk-hidden--visually {border: 0;clip: rect(1px 1px 1px 1px);clip: rect(1px, 1px, 1px, 1px);height: 1px;margin: -1px;overflow: hidden;padding: 0;position: absolute;width: 1px;}#sk-container-id-2 div.sk-estimator {font-family: monospace;background-color: #f0f8ff;border: 1px dotted black;border-radius: 0.25em;box-sizing: border-box;margin-bottom: 0.5em;}#sk-container-id-2 div.sk-estimator:hover {background-color: #d4ebff;}#sk-container-id-2 div.sk-parallel-item::after {content: \"\";width: 100%;border-bottom: 1px solid gray;flex-grow: 1;}#sk-container-id-2 div.sk-label:hover label.sk-toggleable__label {background-color: #d4ebff;}#sk-container-id-2 div.sk-serial::before {content: \"\";position: absolute;border-left: 1px solid gray;box-sizing: border-box;top: 0;bottom: 0;left: 50%;z-index: 0;}#sk-container-id-2 div.sk-serial {display: flex;flex-direction: column;align-items: center;background-color: white;padding-right: 0.2em;padding-left: 0.2em;position: relative;}#sk-container-id-2 div.sk-item {position: relative;z-index: 1;}#sk-container-id-2 div.sk-parallel {display: flex;align-items: stretch;justify-content: center;background-color: white;position: relative;}#sk-container-id-2 div.sk-item::before, #sk-container-id-2 div.sk-parallel-item::before {content: \"\";position: absolute;border-left: 1px solid gray;box-sizing: border-box;top: 0;bottom: 0;left: 50%;z-index: -1;}#sk-container-id-2 div.sk-parallel-item {display: flex;flex-direction: column;z-index: 1;position: relative;background-color: white;}#sk-container-id-2 div.sk-parallel-item:first-child::after {align-self: flex-end;width: 50%;}#sk-container-id-2 div.sk-parallel-item:last-child::after {align-self: flex-start;width: 50%;}#sk-container-id-2 div.sk-parallel-item:only-child::after {width: 0;}#sk-container-id-2 div.sk-dashed-wrapped {border: 1px dashed gray;margin: 0 0.4em 0.5em 0.4em;box-sizing: border-box;padding-bottom: 0.4em;background-color: white;}#sk-container-id-2 div.sk-label label {font-family: monospace;font-weight: bold;display: inline-block;line-height: 1.2em;}#sk-container-id-2 div.sk-label-container {text-align: center;}#sk-container-id-2 div.sk-container {/* jupyter's `normalize.less` sets `[hidden] { display: none; }` but bootstrap.min.css set `[hidden] { display: none !important; }` so we also need the `!important` here to be able to override the default hidden behavior on the sphinx rendered scikit-learn.org. See: https://github.com/scikit-learn/scikit-learn/issues/21755 */display: inline-block !important;position: relative;}#sk-container-id-2 div.sk-text-repr-fallback {display: none;}</style><div id=\"sk-container-id-2\" class=\"sk-top-container\"><div class=\"sk-text-repr-fallback\"><pre>DecisionTreeClassifier()</pre><b>In a Jupyter environment, please rerun this cell to show the HTML representation or trust the notebook. <br />On GitHub, the HTML representation is unable to render, please try loading this page with nbviewer.org.</b></div><div class=\"sk-container\" hidden><div class=\"sk-item\"><div class=\"sk-estimator sk-toggleable\"><input class=\"sk-toggleable__control sk-hidden--visually\" id=\"sk-estimator-id-2\" type=\"checkbox\" checked><label for=\"sk-estimator-id-2\" class=\"sk-toggleable__label sk-toggleable__label-arrow\">DecisionTreeClassifier</label><div class=\"sk-toggleable__content\"><pre>DecisionTreeClassifier()</pre></div></div></div></div></div>"
      ],
      "text/plain": [
       "DecisionTreeClassifier()"
      ]
     },
     "execution_count": 22,
     "metadata": {},
     "output_type": "execute_result"
    }
   ],
   "source": [
    "from sklearn.tree import DecisionTreeClassifier\n",
    "\n",
    "clf = DecisionTreeClassifier()\n",
    "clf.fit(X_train, y_train)"
   ]
  },
  {
   "cell_type": "markdown",
   "id": "345ec5bd",
   "metadata": {},
   "source": [
    "Test and Evaluate"
   ]
  },
  {
   "cell_type": "markdown",
   "id": "7e2696dc",
   "metadata": {},
   "source": [
    "**Test**"
   ]
  },
  {
   "cell_type": "code",
   "execution_count": 23,
   "id": "aeefc2db",
   "metadata": {},
   "outputs": [],
   "source": [
    "# make predictions\n",
    "\n",
    "pred = clf.predict(X_test)"
   ]
  },
  {
   "cell_type": "markdown",
   "id": "63c93258",
   "metadata": {},
   "source": [
    "**Evaluate**"
   ]
  },
  {
   "cell_type": "code",
   "execution_count": 24,
   "id": "264d6458",
   "metadata": {
    "scrolled": true
   },
   "outputs": [
    {
     "name": "stdout",
     "output_type": "stream",
     "text": [
      "accuracy score:  0.8974358974358975\n",
      "precision score:  0.8571428571428571\n",
      "recall score:  0.8571428571428571\n",
      "f1 score:  0.8571428571428571\n"
     ]
    }
   ],
   "source": [
    "# evaluate\n",
    "from sklearn.metrics import accuracy_score, precision_score, recall_score, f1_score\n",
    "\n",
    "print('accuracy score: ', accuracy_score(y_test, pred))\n",
    "print('precision score: ', precision_score(y_test, pred))\n",
    "print('recall score: ', recall_score(y_test, pred))\n",
    "print('f1 score: ', f1_score(y_test, pred))"
   ]
  },
  {
   "cell_type": "markdown",
   "id": "60144751",
   "metadata": {},
   "source": [
    "Print metrics using the classification report"
   ]
  },
  {
   "cell_type": "code",
   "execution_count": 25,
   "id": "94308730",
   "metadata": {
    "scrolled": true
   },
   "outputs": [
    {
     "name": "stdout",
     "output_type": "stream",
     "text": [
      "              precision    recall  f1-score   support\n",
      "\n",
      "           0       0.92      0.92      0.92        50\n",
      "           1       0.86      0.86      0.86        28\n",
      "\n",
      "    accuracy                           0.90        78\n",
      "   macro avg       0.89      0.89      0.89        78\n",
      "weighted avg       0.90      0.90      0.90        78\n",
      "\n"
     ]
    }
   ],
   "source": [
    "print(classification_report(y_test, pred))"
   ]
  },
  {
   "cell_type": "markdown",
   "id": "ea2acc09",
   "metadata": {},
   "source": [
    "Plot the tree"
   ]
  },
  {
   "cell_type": "code",
   "execution_count": 26,
   "id": "0f6ab882",
   "metadata": {
    "scrolled": false
   },
   "outputs": [
    {
     "data": {
      "text/plain": [
       "[Text(0.6507352941176471, 0.9444444444444444, 'X[0] <= 2.5\\ngini = 0.5\\nsamples = 311\\nvalue = [153, 158]'),\n",
       " Text(0.4338235294117647, 0.8333333333333334, 'X[2] <= 101.0\\ngini = 0.239\\nsamples = 173\\nvalue = [24, 149]'),\n",
       " Text(0.27941176470588236, 0.7222222222222222, 'X[5] <= 75.5\\ngini = 0.179\\nsamples = 161\\nvalue = [16, 145]'),\n",
       " Text(0.14705882352941177, 0.6111111111111112, 'X[1] <= 119.5\\ngini = 0.362\\nsamples = 59\\nvalue = [14, 45]'),\n",
       " Text(0.058823529411764705, 0.5, 'X[4] <= 13.75\\ngini = 0.159\\nsamples = 46\\nvalue = [4, 42]'),\n",
       " Text(0.029411764705882353, 0.3888888888888889, 'gini = 0.0\\nsamples = 2\\nvalue = [2, 0]'),\n",
       " Text(0.08823529411764706, 0.3888888888888889, 'X[3] <= 2683.0\\ngini = 0.087\\nsamples = 44\\nvalue = [2, 42]'),\n",
       " Text(0.058823529411764705, 0.2777777777777778, 'X[3] <= 2377.0\\ngini = 0.045\\nsamples = 43\\nvalue = [1, 42]'),\n",
       " Text(0.029411764705882353, 0.16666666666666666, 'gini = 0.0\\nsamples = 38\\nvalue = [0, 38]'),\n",
       " Text(0.08823529411764706, 0.16666666666666666, 'X[3] <= 2385.0\\ngini = 0.32\\nsamples = 5\\nvalue = [1, 4]'),\n",
       " Text(0.058823529411764705, 0.05555555555555555, 'gini = 0.0\\nsamples = 1\\nvalue = [1, 0]'),\n",
       " Text(0.11764705882352941, 0.05555555555555555, 'gini = 0.0\\nsamples = 4\\nvalue = [0, 4]'),\n",
       " Text(0.11764705882352941, 0.2777777777777778, 'gini = 0.0\\nsamples = 1\\nvalue = [1, 0]'),\n",
       " Text(0.23529411764705882, 0.5, 'X[4] <= 17.75\\ngini = 0.355\\nsamples = 13\\nvalue = [10, 3]'),\n",
       " Text(0.20588235294117646, 0.3888888888888889, 'X[2] <= 81.5\\ngini = 0.469\\nsamples = 8\\nvalue = [5, 3]'),\n",
       " Text(0.17647058823529413, 0.2777777777777778, 'gini = 0.0\\nsamples = 2\\nvalue = [0, 2]'),\n",
       " Text(0.23529411764705882, 0.2777777777777778, 'X[1] <= 131.0\\ngini = 0.278\\nsamples = 6\\nvalue = [5, 1]'),\n",
       " Text(0.20588235294117646, 0.16666666666666666, 'gini = 0.0\\nsamples = 4\\nvalue = [4, 0]'),\n",
       " Text(0.2647058823529412, 0.16666666666666666, 'X[5] <= 73.0\\ngini = 0.5\\nsamples = 2\\nvalue = [1, 1]'),\n",
       " Text(0.23529411764705882, 0.05555555555555555, 'gini = 0.0\\nsamples = 1\\nvalue = [0, 1]'),\n",
       " Text(0.29411764705882354, 0.05555555555555555, 'gini = 0.0\\nsamples = 1\\nvalue = [1, 0]'),\n",
       " Text(0.2647058823529412, 0.3888888888888889, 'gini = 0.0\\nsamples = 5\\nvalue = [5, 0]'),\n",
       " Text(0.4117647058823529, 0.6111111111111112, 'X[3] <= 3250.0\\ngini = 0.038\\nsamples = 102\\nvalue = [2, 100]'),\n",
       " Text(0.35294117647058826, 0.5, 'X[3] <= 2880.0\\ngini = 0.02\\nsamples = 100\\nvalue = [1, 99]'),\n",
       " Text(0.3235294117647059, 0.3888888888888889, 'gini = 0.0\\nsamples = 94\\nvalue = [0, 94]'),\n",
       " Text(0.38235294117647056, 0.3888888888888889, 'X[3] <= 2920.0\\ngini = 0.278\\nsamples = 6\\nvalue = [1, 5]'),\n",
       " Text(0.35294117647058826, 0.2777777777777778, 'gini = 0.0\\nsamples = 1\\nvalue = [1, 0]'),\n",
       " Text(0.4117647058823529, 0.2777777777777778, 'gini = 0.0\\nsamples = 5\\nvalue = [0, 5]'),\n",
       " Text(0.47058823529411764, 0.5, 'X[3] <= 3400.0\\ngini = 0.5\\nsamples = 2\\nvalue = [1, 1]'),\n",
       " Text(0.4411764705882353, 0.3888888888888889, 'gini = 0.0\\nsamples = 1\\nvalue = [1, 0]'),\n",
       " Text(0.5, 0.3888888888888889, 'gini = 0.0\\nsamples = 1\\nvalue = [0, 1]'),\n",
       " Text(0.5882352941176471, 0.7222222222222222, 'X[4] <= 14.45\\ngini = 0.444\\nsamples = 12\\nvalue = [8, 4]'),\n",
       " Text(0.5588235294117647, 0.6111111111111112, 'X[5] <= 76.0\\ngini = 0.444\\nsamples = 6\\nvalue = [2, 4]'),\n",
       " Text(0.5294117647058824, 0.5, 'gini = 0.0\\nsamples = 3\\nvalue = [0, 3]'),\n",
       " Text(0.5882352941176471, 0.5, 'X[1] <= 138.5\\ngini = 0.444\\nsamples = 3\\nvalue = [2, 1]'),\n",
       " Text(0.5588235294117647, 0.3888888888888889, 'gini = 0.0\\nsamples = 2\\nvalue = [2, 0]'),\n",
       " Text(0.6176470588235294, 0.3888888888888889, 'gini = 0.0\\nsamples = 1\\nvalue = [0, 1]'),\n",
       " Text(0.6176470588235294, 0.6111111111111112, 'gini = 0.0\\nsamples = 6\\nvalue = [6, 0]'),\n",
       " Text(0.8676470588235294, 0.8333333333333334, 'X[5] <= 79.5\\ngini = 0.122\\nsamples = 138\\nvalue = [129, 9]'),\n",
       " Text(0.7941176470588235, 0.7222222222222222, 'X[4] <= 21.6\\ngini = 0.045\\nsamples = 129\\nvalue = [126, 3]'),\n",
       " Text(0.7647058823529411, 0.6111111111111112, 'X[3] <= 2737.0\\ngini = 0.031\\nsamples = 128\\nvalue = [126, 2]'),\n",
       " Text(0.7058823529411765, 0.5, 'X[5] <= 76.0\\ngini = 0.444\\nsamples = 3\\nvalue = [2, 1]'),\n",
       " Text(0.6764705882352942, 0.3888888888888889, 'gini = 0.0\\nsamples = 2\\nvalue = [2, 0]'),\n",
       " Text(0.7352941176470589, 0.3888888888888889, 'gini = 0.0\\nsamples = 1\\nvalue = [0, 1]'),\n",
       " Text(0.8235294117647058, 0.5, 'X[2] <= 83.0\\ngini = 0.016\\nsamples = 125\\nvalue = [124, 1]'),\n",
       " Text(0.7941176470588235, 0.3888888888888889, 'X[3] <= 3085.0\\ngini = 0.375\\nsamples = 4\\nvalue = [3, 1]'),\n",
       " Text(0.7647058823529411, 0.2777777777777778, 'gini = 0.0\\nsamples = 1\\nvalue = [0, 1]'),\n",
       " Text(0.8235294117647058, 0.2777777777777778, 'gini = 0.0\\nsamples = 3\\nvalue = [3, 0]'),\n",
       " Text(0.8529411764705882, 0.3888888888888889, 'gini = 0.0\\nsamples = 121\\nvalue = [121, 0]'),\n",
       " Text(0.8235294117647058, 0.6111111111111112, 'gini = 0.0\\nsamples = 1\\nvalue = [0, 1]'),\n",
       " Text(0.9411764705882353, 0.7222222222222222, 'X[6] <= 1.5\\ngini = 0.444\\nsamples = 9\\nvalue = [3, 6]'),\n",
       " Text(0.9117647058823529, 0.6111111111111112, 'X[1] <= 247.0\\ngini = 0.48\\nsamples = 5\\nvalue = [3, 2]'),\n",
       " Text(0.8823529411764706, 0.5, 'gini = 0.0\\nsamples = 3\\nvalue = [3, 0]'),\n",
       " Text(0.9411764705882353, 0.5, 'gini = 0.0\\nsamples = 2\\nvalue = [0, 2]'),\n",
       " Text(0.9705882352941176, 0.6111111111111112, 'gini = 0.0\\nsamples = 4\\nvalue = [0, 4]')]"
      ]
     },
     "execution_count": 26,
     "metadata": {},
     "output_type": "execute_result"
    },
    {
     "data": {
      "image/png": "[encoded data removed]",
      "text/plain": [
       "<Figure size 640x480 with 1 Axes>"
      ]
     },
     "metadata": {},
     "output_type": "display_data"
    }
   ],
   "source": [
    "from sklearn import tree\n",
    "tree.plot_tree(clf)"
   ]
  },
  {
   "cell_type": "markdown",
   "id": "a3549a89",
   "metadata": {},
   "source": [
    "### Instrution 10 - Neural Network"
   ]
  },
  {
   "cell_type": "markdown",
   "id": "9db4da0d",
   "metadata": {},
   "source": [
    "First we need to normalize the data for training"
   ]
  },
  {
   "cell_type": "code",
   "execution_count": 27,
   "id": "db76e389",
   "metadata": {},
   "outputs": [],
   "source": [
    "# normalize the data\n",
    "from sklearn import preprocessing\n",
    "\n",
    "scaler = preprocessing.StandardScaler().fit(X_train)\n",
    "\n",
    "X_train_scaled = scaler.transform(X_train)\n",
    "X_test_scaled = scaler.transform(X_test)"
   ]
  },
  {
   "cell_type": "markdown",
   "id": "40f53bf1",
   "metadata": {},
   "source": [
    "**Train a neural network with network topology: 2 hidden layers: First layers: 3 nodes and Second layer: 2 nodes**"
   ]
  },
  {
   "cell_type": "code",
   "execution_count": 28,
   "id": "459fe42e",
   "metadata": {},
   "outputs": [
    {
     "data": {
      "text/html": [
       "<style>#sk-container-id-3 {color: black;background-color: white;}#sk-container-id-3 pre{padding: 0;}#sk-container-id-3 div.sk-toggleable {background-color: white;}#sk-container-id-3 label.sk-toggleable__label {cursor: pointer;display: block;width: 100%;margin-bottom: 0;padding: 0.3em;box-sizing: border-box;text-align: center;}#sk-container-id-3 label.sk-toggleable__label-arrow:before {content: \"▸\";float: left;margin-right: 0.25em;color: #696969;}#sk-container-id-3 label.sk-toggleable__label-arrow:hover:before {color: black;}#sk-container-id-3 div.sk-estimator:hover label.sk-toggleable__label-arrow:before {color: black;}#sk-container-id-3 div.sk-toggleable__content {max-height: 0;max-width: 0;overflow: hidden;text-align: left;background-color: #f0f8ff;}#sk-container-id-3 div.sk-toggleable__content pre {margin: 0.2em;color: black;border-radius: 0.25em;background-color: #f0f8ff;}#sk-container-id-3 input.sk-toggleable__control:checked~div.sk-toggleable__content {max-height: 200px;max-width: 100%;overflow: auto;}#sk-container-id-3 input.sk-toggleable__control:checked~label.sk-toggleable__label-arrow:before {content: \"▾\";}#sk-container-id-3 div.sk-estimator input.sk-toggleable__control:checked~label.sk-toggleable__label {background-color: #d4ebff;}#sk-container-id-3 div.sk-label input.sk-toggleable__control:checked~label.sk-toggleable__label {background-color: #d4ebff;}#sk-container-id-3 input.sk-hidden--visually {border: 0;clip: rect(1px 1px 1px 1px);clip: rect(1px, 1px, 1px, 1px);height: 1px;margin: -1px;overflow: hidden;padding: 0;position: absolute;width: 1px;}#sk-container-id-3 div.sk-estimator {font-family: monospace;background-color: #f0f8ff;border: 1px dotted black;border-radius: 0.25em;box-sizing: border-box;margin-bottom: 0.5em;}#sk-container-id-3 div.sk-estimator:hover {background-color: #d4ebff;}#sk-container-id-3 div.sk-parallel-item::after {content: \"\";width: 100%;border-bottom: 1px solid gray;flex-grow: 1;}#sk-container-id-3 div.sk-label:hover label.sk-toggleable__label {background-color: #d4ebff;}#sk-container-id-3 div.sk-serial::before {content: \"\";position: absolute;border-left: 1px solid gray;box-sizing: border-box;top: 0;bottom: 0;left: 50%;z-index: 0;}#sk-container-id-3 div.sk-serial {display: flex;flex-direction: column;align-items: center;background-color: white;padding-right: 0.2em;padding-left: 0.2em;position: relative;}#sk-container-id-3 div.sk-item {position: relative;z-index: 1;}#sk-container-id-3 div.sk-parallel {display: flex;align-items: stretch;justify-content: center;background-color: white;position: relative;}#sk-container-id-3 div.sk-item::before, #sk-container-id-3 div.sk-parallel-item::before {content: \"\";position: absolute;border-left: 1px solid gray;box-sizing: border-box;top: 0;bottom: 0;left: 50%;z-index: -1;}#sk-container-id-3 div.sk-parallel-item {display: flex;flex-direction: column;z-index: 1;position: relative;background-color: white;}#sk-container-id-3 div.sk-parallel-item:first-child::after {align-self: flex-end;width: 50%;}#sk-container-id-3 div.sk-parallel-item:last-child::after {align-self: flex-start;width: 50%;}#sk-container-id-3 div.sk-parallel-item:only-child::after {width: 0;}#sk-container-id-3 div.sk-dashed-wrapped {border: 1px dashed gray;margin: 0 0.4em 0.5em 0.4em;box-sizing: border-box;padding-bottom: 0.4em;background-color: white;}#sk-container-id-3 div.sk-label label {font-family: monospace;font-weight: bold;display: inline-block;line-height: 1.2em;}#sk-container-id-3 div.sk-label-container {text-align: center;}#sk-container-id-3 div.sk-container {/* jupyter's `normalize.less` sets `[hidden] { display: none; }` but bootstrap.min.css set `[hidden] { display: none !important; }` so we also need the `!important` here to be able to override the default hidden behavior on the sphinx rendered scikit-learn.org. See: https://github.com/scikit-learn/scikit-learn/issues/21755 */display: inline-block !important;position: relative;}#sk-container-id-3 div.sk-text-repr-fallback {display: none;}</style><div id=\"sk-container-id-3\" class=\"sk-top-container\"><div class=\"sk-text-repr-fallback\"><pre>MLPClassifier(hidden_layer_sizes=(3, 2), max_iter=500, random_state=1234,\n",
       "              solver=&#x27;lbfgs&#x27;)</pre><b>In a Jupyter environment, please rerun this cell to show the HTML representation or trust the notebook. <br />On GitHub, the HTML representation is unable to render, please try loading this page with nbviewer.org.</b></div><div class=\"sk-container\" hidden><div class=\"sk-item\"><div class=\"sk-estimator sk-toggleable\"><input class=\"sk-toggleable__control sk-hidden--visually\" id=\"sk-estimator-id-3\" type=\"checkbox\" checked><label for=\"sk-estimator-id-3\" class=\"sk-toggleable__label sk-toggleable__label-arrow\">MLPClassifier</label><div class=\"sk-toggleable__content\"><pre>MLPClassifier(hidden_layer_sizes=(3, 2), max_iter=500, random_state=1234,\n",
       "              solver=&#x27;lbfgs&#x27;)</pre></div></div></div></div></div>"
      ],
      "text/plain": [
       "MLPClassifier(hidden_layer_sizes=(3, 2), max_iter=500, random_state=1234,\n",
       "              solver='lbfgs')"
      ]
     },
     "execution_count": 28,
     "metadata": {},
     "output_type": "execute_result"
    }
   ],
   "source": [
    "# train \n",
    "from sklearn.neural_network import MLPClassifier\n",
    "\n",
    "clf = MLPClassifier(solver='lbfgs', hidden_layer_sizes=(3, 2), max_iter=500, random_state=1234)\n",
    "clf.fit(X_train_scaled, y_train)"
   ]
  },
  {
   "cell_type": "markdown",
   "id": "d9ed9419",
   "metadata": {},
   "source": [
    "Test and Evaluate"
   ]
  },
  {
   "cell_type": "markdown",
   "id": "429192c9",
   "metadata": {},
   "source": [
    "**Test**"
   ]
  },
  {
   "cell_type": "code",
   "execution_count": 29,
   "id": "ba6778aa",
   "metadata": {},
   "outputs": [],
   "source": [
    "# make predictions\n",
    "\n",
    "pred = clf.predict(X_test_scaled)"
   ]
  },
  {
   "cell_type": "markdown",
   "id": "e57aba21",
   "metadata": {},
   "source": [
    "**Evaluation**"
   ]
  },
  {
   "cell_type": "code",
   "execution_count": 30,
   "id": "35db0a08",
   "metadata": {
    "scrolled": true
   },
   "outputs": [
    {
     "name": "stdout",
     "output_type": "stream",
     "text": [
      "accuracy score:  0.8717948717948718\n",
      "precision score:  0.8\n",
      "recall score:  0.8571428571428571\n",
      "f1 score:  0.8275862068965518\n"
     ]
    }
   ],
   "source": [
    "# evaluate\n",
    "from sklearn.metrics import accuracy_score, precision_score, recall_score, f1_score\n",
    "\n",
    "print('accuracy score: ', accuracy_score(y_test, pred))\n",
    "print('precision score: ', precision_score(y_test, pred))\n",
    "print('recall score: ', recall_score(y_test, pred))\n",
    "print('f1 score: ', f1_score(y_test, pred))"
   ]
  },
  {
   "cell_type": "markdown",
   "id": "1c473e1a",
   "metadata": {},
   "source": [
    "**Train a neural network with network topology: 1 hidden layers with 5 nodes**"
   ]
  },
  {
   "cell_type": "code",
   "execution_count": 31,
   "id": "16b6d653",
   "metadata": {},
   "outputs": [
    {
     "data": {
      "text/html": [
       "<style>#sk-container-id-4 {color: black;background-color: white;}#sk-container-id-4 pre{padding: 0;}#sk-container-id-4 div.sk-toggleable {background-color: white;}#sk-container-id-4 label.sk-toggleable__label {cursor: pointer;display: block;width: 100%;margin-bottom: 0;padding: 0.3em;box-sizing: border-box;text-align: center;}#sk-container-id-4 label.sk-toggleable__label-arrow:before {content: \"▸\";float: left;margin-right: 0.25em;color: #696969;}#sk-container-id-4 label.sk-toggleable__label-arrow:hover:before {color: black;}#sk-container-id-4 div.sk-estimator:hover label.sk-toggleable__label-arrow:before {color: black;}#sk-container-id-4 div.sk-toggleable__content {max-height: 0;max-width: 0;overflow: hidden;text-align: left;background-color: #f0f8ff;}#sk-container-id-4 div.sk-toggleable__content pre {margin: 0.2em;color: black;border-radius: 0.25em;background-color: #f0f8ff;}#sk-container-id-4 input.sk-toggleable__control:checked~div.sk-toggleable__content {max-height: 200px;max-width: 100%;overflow: auto;}#sk-container-id-4 input.sk-toggleable__control:checked~label.sk-toggleable__label-arrow:before {content: \"▾\";}#sk-container-id-4 div.sk-estimator input.sk-toggleable__control:checked~label.sk-toggleable__label {background-color: #d4ebff;}#sk-container-id-4 div.sk-label input.sk-toggleable__control:checked~label.sk-toggleable__label {background-color: #d4ebff;}#sk-container-id-4 input.sk-hidden--visually {border: 0;clip: rect(1px 1px 1px 1px);clip: rect(1px, 1px, 1px, 1px);height: 1px;margin: -1px;overflow: hidden;padding: 0;position: absolute;width: 1px;}#sk-container-id-4 div.sk-estimator {font-family: monospace;background-color: #f0f8ff;border: 1px dotted black;border-radius: 0.25em;box-sizing: border-box;margin-bottom: 0.5em;}#sk-container-id-4 div.sk-estimator:hover {background-color: #d4ebff;}#sk-container-id-4 div.sk-parallel-item::after {content: \"\";width: 100%;border-bottom: 1px solid gray;flex-grow: 1;}#sk-container-id-4 div.sk-label:hover label.sk-toggleable__label {background-color: #d4ebff;}#sk-container-id-4 div.sk-serial::before {content: \"\";position: absolute;border-left: 1px solid gray;box-sizing: border-box;top: 0;bottom: 0;left: 50%;z-index: 0;}#sk-container-id-4 div.sk-serial {display: flex;flex-direction: column;align-items: center;background-color: white;padding-right: 0.2em;padding-left: 0.2em;position: relative;}#sk-container-id-4 div.sk-item {position: relative;z-index: 1;}#sk-container-id-4 div.sk-parallel {display: flex;align-items: stretch;justify-content: center;background-color: white;position: relative;}#sk-container-id-4 div.sk-item::before, #sk-container-id-4 div.sk-parallel-item::before {content: \"\";position: absolute;border-left: 1px solid gray;box-sizing: border-box;top: 0;bottom: 0;left: 50%;z-index: -1;}#sk-container-id-4 div.sk-parallel-item {display: flex;flex-direction: column;z-index: 1;position: relative;background-color: white;}#sk-container-id-4 div.sk-parallel-item:first-child::after {align-self: flex-end;width: 50%;}#sk-container-id-4 div.sk-parallel-item:last-child::after {align-self: flex-start;width: 50%;}#sk-container-id-4 div.sk-parallel-item:only-child::after {width: 0;}#sk-container-id-4 div.sk-dashed-wrapped {border: 1px dashed gray;margin: 0 0.4em 0.5em 0.4em;box-sizing: border-box;padding-bottom: 0.4em;background-color: white;}#sk-container-id-4 div.sk-label label {font-family: monospace;font-weight: bold;display: inline-block;line-height: 1.2em;}#sk-container-id-4 div.sk-label-container {text-align: center;}#sk-container-id-4 div.sk-container {/* jupyter's `normalize.less` sets `[hidden] { display: none; }` but bootstrap.min.css set `[hidden] { display: none !important; }` so we also need the `!important` here to be able to override the default hidden behavior on the sphinx rendered scikit-learn.org. See: https://github.com/scikit-learn/scikit-learn/issues/21755 */display: inline-block !important;position: relative;}#sk-container-id-4 div.sk-text-repr-fallback {display: none;}</style><div id=\"sk-container-id-4\" class=\"sk-top-container\"><div class=\"sk-text-repr-fallback\"><pre>MLPClassifier(hidden_layer_sizes=5, max_iter=1000, random_state=1234,\n",
       "              solver=&#x27;sgd&#x27;)</pre><b>In a Jupyter environment, please rerun this cell to show the HTML representation or trust the notebook. <br />On GitHub, the HTML representation is unable to render, please try loading this page with nbviewer.org.</b></div><div class=\"sk-container\" hidden><div class=\"sk-item\"><div class=\"sk-estimator sk-toggleable\"><input class=\"sk-toggleable__control sk-hidden--visually\" id=\"sk-estimator-id-4\" type=\"checkbox\" checked><label for=\"sk-estimator-id-4\" class=\"sk-toggleable__label sk-toggleable__label-arrow\">MLPClassifier</label><div class=\"sk-toggleable__content\"><pre>MLPClassifier(hidden_layer_sizes=5, max_iter=1000, random_state=1234,\n",
       "              solver=&#x27;sgd&#x27;)</pre></div></div></div></div></div>"
      ],
      "text/plain": [
       "MLPClassifier(hidden_layer_sizes=5, max_iter=1000, random_state=1234,\n",
       "              solver='sgd')"
      ]
     },
     "execution_count": 31,
     "metadata": {},
     "output_type": "execute_result"
    }
   ],
   "source": [
    "# train \n",
    "from sklearn.neural_network import MLPClassifier\n",
    "\n",
    "clf = MLPClassifier(solver='sgd', hidden_layer_sizes=(5), max_iter=1000, random_state=1234)\n",
    "clf.fit(X_train_scaled, y_train)"
   ]
  },
  {
   "cell_type": "markdown",
   "id": "a1fe8893",
   "metadata": {},
   "source": [
    "Test and Evaluate"
   ]
  },
  {
   "cell_type": "markdown",
   "id": "2f3aa9b5",
   "metadata": {},
   "source": [
    "**Test**"
   ]
  },
  {
   "cell_type": "code",
   "execution_count": 32,
   "id": "4db274fa",
   "metadata": {},
   "outputs": [],
   "source": [
    "# make predictions\n",
    "\n",
    "pred = clf.predict(X_test_scaled)"
   ]
  },
  {
   "cell_type": "markdown",
   "id": "18a07ca8",
   "metadata": {},
   "source": [
    "**Evaluation**"
   ]
  },
  {
   "cell_type": "code",
   "execution_count": 33,
   "id": "d695c8d5",
   "metadata": {
    "scrolled": true
   },
   "outputs": [
    {
     "name": "stdout",
     "output_type": "stream",
     "text": [
      "accuracy score:  0.8589743589743589\n",
      "precision score:  0.7575757575757576\n",
      "recall score:  0.8928571428571429\n",
      "f1 score:  0.819672131147541\n"
     ]
    }
   ],
   "source": [
    "# evaluate\n",
    "from sklearn.metrics import accuracy_score, precision_score, recall_score, f1_score\n",
    "\n",
    "print('accuracy score: ', accuracy_score(y_test, pred))\n",
    "print('precision score: ', precision_score(y_test, pred))\n",
    "print('recall score: ', recall_score(y_test, pred))\n",
    "print('f1 score: ', f1_score(y_test, pred))"
   ]
  },
  {
   "cell_type": "markdown",
   "id": "6cb19c66",
   "metadata": {},
   "source": [
    "#### Comparing 2 Neural Network Model"
   ]
  },
  {
   "cell_type": "markdown",
   "id": "0cccbf0b",
   "metadata": {},
   "source": [
    "The first model with 2 hidens layers (3,2) have better result from the second model with 1 layer (5). Eventhough, both model have 5 nodes with follow the Rule of Thumbs. However, the first model have more layer compare to the second model, so it can capture more complex relationships in the data. That is the reason the first model have higher accuracy compare to second model.\n",
    "\n",
    "Rule of Thumbs: Number of node should follow this rule:\n",
    "\n",
    "    - Between 1 and number of predictors\n",
    "    - 2/3 of input layer plus the size of output layer\n",
    "    - < twice input layer\n",
    "    \n",
    "Follow these rules: The Auto data have 7 predictors. The suggesstion are: (1) 1-7, (2) 5, and (3) 14. So we try 5 hidens nodes and arrange them in 2 model as above."
   ]
  },
  {
   "cell_type": "markdown",
   "id": "e5bb96b4",
   "metadata": {},
   "source": [
    "### Instrution 11 - Analysis"
   ]
  },
  {
   "cell_type": "markdown",
   "id": "cf65053d",
   "metadata": {},
   "source": [
    "The Logistic Regression and Decision Tree perform better compare to the Neural Network. Between the Neural Network, the first model (2 hidden layer) perform better compare to Second model (1 hidden layer). The Logistic Regression and Decision Tree have a highest accucary and very similar to each other. The Decsion Tree seem to have better value to predict the position sample because it have higher recall score. The Neural Network has the lowest accuracy. But the precission score and recall score are similar to Logistic Regression and Decision Tree.  Between 2 Neural Model, be First one have better accuracy because the have more player than the Second one. \n",
    "\n",
    "The Logistic Regressiona and Decision Tree perform better than Neural Network because we have a very small data set (< 500 samples). However, in the long run, when the data size grow, the Neural Network will out perfom these two.\n",
    "\n",
    "My experiences when using both R and sklearn is they are very similar based on how to read data, build the model, test and evaluate results. Even the graph is also very similar. If i must to choose which one is better, i think sklearn is more flexable and more friendly to use other than R."
   ]
  }
 ],
 "metadata": {
  "kernelspec": {
   "display_name": "Python 3 (ipykernel)",
   "language": "python",
   "name": "python3"
  },
  "language_info": {
   "codemirror_mode": {
    "name": "ipython",
    "version": 3
   },
   "file_extension": ".py",
   "mimetype": "text/x-python",
   "name": "python",
   "nbconvert_exporter": "python",
   "pygments_lexer": "ipython3",
   "version": "3.10.4"
  }
 },
 "nbformat": 4,
 "nbformat_minor": 5
}
